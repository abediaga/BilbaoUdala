{
 "cells": [
  {
   "cell_type": "code",
   "execution_count": 14,
   "metadata": {},
   "outputs": [],
   "source": [
    "#!pip install tabula-py"
   ]
  },
  {
   "cell_type": "code",
   "execution_count": 67,
   "metadata": {},
   "outputs": [],
   "source": [
    "import requests\n",
    "from lxml import html\n",
    "import pandas as pd\n",
    "import datetime\n",
    "from bs4 import BeautifulSoup\n",
    "import tabula"
   ]
  },
  {
   "cell_type": "code",
   "execution_count": 76,
   "metadata": {},
   "outputs": [],
   "source": [
    "df_convenios_BilbaoEkintza = pd.DataFrame()"
   ]
  },
  {
   "cell_type": "code",
   "execution_count": 77,
   "metadata": {},
   "outputs": [],
   "source": [
    "main_url = \"https://www.bilbao.eus/\"\n",
    "url = \"https://www.bilbao.eus/cs/Satellite/transparencia/es/ambitos/entidades-municipales/bilbao-ekintza/1272990976666/1272990977214/1272990978774\""
   ]
  },
  {
   "cell_type": "code",
   "execution_count": 78,
   "metadata": {},
   "outputs": [],
   "source": [
    "response = requests.get(url)\n",
    "soup = BeautifulSoup(response.text, 'html.parser')\n",
    "contenido = soup.find_all(\"div\", {\"class\": \"content-detail\"})"
   ]
  },
  {
   "cell_type": "code",
   "execution_count": 79,
   "metadata": {},
   "outputs": [
    {
     "name": "stdout",
     "output_type": "stream",
     "text": [
      "2020 Sinatutako Hitzamenak -Convenios Firmados 2020\n",
      "2020\n",
      "2019 Sinatutako Hitzamenak -Convenios Firmados 2019\n",
      "2019\n",
      "2018 Sinatutako Hitzamenak -Convenios Firmados 2018\n",
      "2018\n",
      "2017 Sinatutako Hitzamenak -Convenios Firmados 2017\n",
      "2017\n",
      "2016 Sinatutako Hitzamenak -Convenios Firmados 2016\n",
      "2016\n"
     ]
    }
   ],
   "source": [
    "for link in contenido[0].find_all(\"a\"):\n",
    "    #convenios_BilbaoEkintza[link.text] = []\n",
    "    print(link.text)\n",
    "    ano = link.text.split(\" \")[0]\n",
    "    response = requests.get(main_url+link[\"href\"])\n",
    "    file = \"a.pdf\"\n",
    "    open(file, 'wb').write(response.content)\n",
    "    \n",
    "    a = tabula.read_pdf(file, pages = \"all\", multiple_tables = True, pandas_options = {'header': None})\n",
    "    df = pd.DataFrame()\n",
    "    for i,tabla in enumerate(a):\n",
    "        if (len(tabla.columns) > 2):\n",
    "            if \"ENTIDAD\" in tabla.iloc[0].values:\n",
    "                tabla = tabla.drop(0)\n",
    "            #Borramos las columnas que tengan todo NaN\n",
    "            tabla = tabla.dropna(axis=1, how='all')\n",
    "            #display(tabla)\n",
    "            df = df.append(tabla, ignore_index=True)\n",
    "    df[\"Año\"] = ano\n",
    "    #display(df)\n",
    "    df_convenios_BilbaoEkintza = df_convenios_BilbaoEkintza.append(df, ignore_index=True)        "
   ]
  },
  {
   "cell_type": "code",
   "execution_count": 80,
   "metadata": {},
   "outputs": [],
   "source": [
    "df_convenios_BilbaoEkintza_original = df_convenios_BilbaoEkintza.copy()"
   ]
  },
  {
   "cell_type": "code",
   "execution_count": 103,
   "metadata": {},
   "outputs": [],
   "source": [
    "df_convenios_BilbaoEkintza = df_convenios_BilbaoEkintza_original.copy()\n",
    "\n",
    "columna_año = df_convenios_BilbaoEkintza.pop('Año')\n",
    "df_convenios_BilbaoEkintza[\"Año\"] = columna_año"
   ]
  },
  {
   "cell_type": "code",
   "execution_count": 104,
   "metadata": {},
   "outputs": [],
   "source": [
    "for index, row in df_convenios_BilbaoEkintza.iterrows():\n",
    "    if pd.isna(row[0]):\n",
    "        #print(row)\n",
    "        row[0] = row[1]\n",
    "        row[1] = row[2]\n",
    "        row[2] = row[3]\n",
    "        row[3] = row[4]\n",
    "\n",
    "df_convenios_BilbaoEkintza = df_convenios_BilbaoEkintza.dropna(axis=1, how='all')"
   ]
  },
  {
   "cell_type": "code",
   "execution_count": 105,
   "metadata": {},
   "outputs": [],
   "source": [
    "for index, row in df_convenios_BilbaoEkintza.iterrows():\n",
    "    if pd.isna(row[1]):\n",
    "        #print(row)\n",
    "        row[1] = row[2]\n",
    "        row[2] = row[4]\n",
    "        row[4] = float(\"NaN\")\n",
    "\n",
    "df_convenios_BilbaoEkintza = df_convenios_BilbaoEkintza.dropna(axis=1, how='all')"
   ]
  },
  {
   "cell_type": "code",
   "execution_count": 107,
   "metadata": {},
   "outputs": [
    {
     "data": {
      "text/html": [
       "<div>\n",
       "<style scoped>\n",
       "    .dataframe tbody tr th:only-of-type {\n",
       "        vertical-align: middle;\n",
       "    }\n",
       "\n",
       "    .dataframe tbody tr th {\n",
       "        vertical-align: top;\n",
       "    }\n",
       "\n",
       "    .dataframe thead th {\n",
       "        text-align: right;\n",
       "    }\n",
       "</style>\n",
       "<table border=\"1\" class=\"dataframe\">\n",
       "  <thead>\n",
       "    <tr style=\"text-align: right;\">\n",
       "      <th></th>\n",
       "      <th>ENTIDAD</th>\n",
       "      <th>OBJETIVO</th>\n",
       "      <th>IMPORTE</th>\n",
       "      <th>AÑO</th>\n",
       "    </tr>\n",
       "  </thead>\n",
       "  <tbody>\n",
       "    <tr>\n",
       "      <th>0</th>\n",
       "      <td>DIPUTACIÓN FORAL Y TURKISH AIRLINES</td>\n",
       "      <td>Acciones de promoción turística</td>\n",
       "      <td>- €</td>\n",
       "      <td>2020</td>\n",
       "    </tr>\n",
       "    <tr>\n",
       "      <th>1</th>\n",
       "      <td>UNIVERSIDAD MONDRAGON Y BEAZ</td>\n",
       "      <td>Fintech</td>\n",
       "      <td>60.000,00€</td>\n",
       "      <td>2020</td>\n",
       "    </tr>\n",
       "    <tr>\n",
       "      <th>2</th>\n",
       "      <td>CLUB BILBAO ATLETISMO SANTUTXU</td>\n",
       "      <td>Milla de Bilbao 2020</td>\n",
       "      <td>15.000,00€</td>\n",
       "      <td>2020</td>\n",
       "    </tr>\n",
       "    <tr>\n",
       "      <th>3</th>\n",
       "      <td>REAL PEÑA MOTORISTA VIZCAYA</td>\n",
       "      <td>RallyStone 2020</td>\n",
       "      <td>5.000,00€</td>\n",
       "      <td>2020</td>\n",
       "    </tr>\n",
       "    <tr>\n",
       "      <th>4</th>\n",
       "      <td>ASOC. COMERCIANTES SAN FRANCISCO, BILBAO LA VI...</td>\n",
       "      <td>Plan de Actuación 2020</td>\n",
       "      <td>56.000,00€</td>\n",
       "      <td>2020</td>\n",
       "    </tr>\n",
       "    <tr>\n",
       "      <th>...</th>\n",
       "      <td>...</td>\n",
       "      <td>...</td>\n",
       "      <td>...</td>\n",
       "      <td>...</td>\n",
       "    </tr>\n",
       "    <tr>\n",
       "      <th>346</th>\n",
       "      <td>DIPUTACIÓN FORAL DE BIZKAIA - BASQUETOUR TURIS...</td>\n",
       "      <td>Routes Europe 2018</td>\n",
       "      <td>333.333,00 €</td>\n",
       "      <td>2016</td>\n",
       "    </tr>\n",
       "    <tr>\n",
       "      <th>347</th>\n",
       "      <td>MIK, S.COOP.</td>\n",
       "      <td>Análisis y desarrollo del sector de Servicios ...</td>\n",
       "      <td>-</td>\n",
       "      <td>2016</td>\n",
       "    </tr>\n",
       "    <tr>\n",
       "      <th>348</th>\n",
       "      <td>ERABERRIKUNTZA ETA EZAGUTZAN ADITUAK DIREN PER...</td>\n",
       "      <td>Dual Career</td>\n",
       "      <td>-</td>\n",
       "      <td>2016</td>\n",
       "    </tr>\n",
       "    <tr>\n",
       "      <th>349</th>\n",
       "      <td>UNIVERSIDAD DEL PAIS VASCO / EUSKAL HERRIKO UN...</td>\n",
       "      <td>Plan Emprende</td>\n",
       "      <td>25.000,00 €</td>\n",
       "      <td>2016</td>\n",
       "    </tr>\n",
       "    <tr>\n",
       "      <th>350</th>\n",
       "      <td>ASOCIACIÓN CENTRO DE INNOVACIÓN DE BILBAO-CIB</td>\n",
       "      <td>Bilbao Berrikuntza Garage</td>\n",
       "      <td>-</td>\n",
       "      <td>2016</td>\n",
       "    </tr>\n",
       "  </tbody>\n",
       "</table>\n",
       "<p>351 rows × 4 columns</p>\n",
       "</div>"
      ],
      "text/plain": [
       "                                               ENTIDAD  \\\n",
       "0                  DIPUTACIÓN FORAL Y TURKISH AIRLINES   \n",
       "1                         UNIVERSIDAD MONDRAGON Y BEAZ   \n",
       "2                       CLUB BILBAO ATLETISMO SANTUTXU   \n",
       "3                          REAL PEÑA MOTORISTA VIZCAYA   \n",
       "4    ASOC. COMERCIANTES SAN FRANCISCO, BILBAO LA VI...   \n",
       "..                                                 ...   \n",
       "346  DIPUTACIÓN FORAL DE BIZKAIA - BASQUETOUR TURIS...   \n",
       "347                                       MIK, S.COOP.   \n",
       "348  ERABERRIKUNTZA ETA EZAGUTZAN ADITUAK DIREN PER...   \n",
       "349  UNIVERSIDAD DEL PAIS VASCO / EUSKAL HERRIKO UN...   \n",
       "350      ASOCIACIÓN CENTRO DE INNOVACIÓN DE BILBAO-CIB   \n",
       "\n",
       "                                              OBJETIVO       IMPORTE   AÑO  \n",
       "0                      Acciones de promoción turística           - €  2020  \n",
       "1                                              Fintech    60.000,00€  2020  \n",
       "2                                 Milla de Bilbao 2020    15.000,00€  2020  \n",
       "3                                      RallyStone 2020     5.000,00€  2020  \n",
       "4                               Plan de Actuación 2020    56.000,00€  2020  \n",
       "..                                                 ...           ...   ...  \n",
       "346                                 Routes Europe 2018  333.333,00 €  2016  \n",
       "347  Análisis y desarrollo del sector de Servicios ...             -  2016  \n",
       "348                                        Dual Career             -  2016  \n",
       "349                                      Plan Emprende   25.000,00 €  2016  \n",
       "350                          Bilbao Berrikuntza Garage             -  2016  \n",
       "\n",
       "[351 rows x 4 columns]"
      ]
     },
     "metadata": {},
     "output_type": "display_data"
    }
   ],
   "source": [
    "df_convenios_BilbaoEkintza.columns =['ENTIDAD', 'OBJETIVO', 'IMPORTE', 'AÑO']\n",
    "display(df_convenios_BilbaoEkintza)"
   ]
  },
  {
   "cell_type": "code",
   "execution_count": null,
   "metadata": {},
   "outputs": [],
   "source": []
  }
 ],
 "metadata": {
  "kernelspec": {
   "display_name": "Python 3",
   "language": "python",
   "name": "python3"
  },
  "language_info": {
   "codemirror_mode": {
    "name": "ipython",
    "version": 3
   },
   "file_extension": ".py",
   "mimetype": "text/x-python",
   "name": "python",
   "nbconvert_exporter": "python",
   "pygments_lexer": "ipython3",
   "version": "3.7.3"
  }
 },
 "nbformat": 4,
 "nbformat_minor": 4
}
